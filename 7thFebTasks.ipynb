{
 "cells": [
  {
   "cell_type": "code",
   "execution_count": 10,
   "id": "bd3a10f2-0653-40b5-9273-68fc96e895f6",
   "metadata": {},
   "outputs": [
    {
     "name": "stdout",
     "output_type": "stream",
     "text": [
      "Note: \n",
      "1. The Password should contain at least two uppercase letters and at least two lowercase letters.\n",
      "2. The Password should contain at least a number and three special characters.\n",
      "3. The length of the password should be 10 characters long.\n"
     ]
    },
    {
     "name": "stdin",
     "output_type": "stream",
     "text": [
      "Set a Password: AkraM@1$2&3\n"
     ]
    },
    {
     "name": "stdout",
     "output_type": "stream",
     "text": [
      "Valid Password\n"
     ]
    }
   ],
   "source": [
    "while True:\n",
    "  print(\"Note: \\n1. The Password should contain at least two uppercase letters and at least two lowercase letters.\\n2. The Password should contain at least a number and three special characters.\\n3. The length of the password should be 10 characters long.\")\n",
    "  number_list = [\"1\",\"2\",\"3\",\"4\",\"5\",\"6\",\"7\",\"8\",\"9\",\"0\"]\n",
    "  schar_list = [\"@\",\"_\",\"!\",\"#\",\"$\",\"%\",\"^\",\"&\",\"*\",\"(\",\")\",\"<\",\">\",\"?\",\"/\",\"\\\\\",\"|\",\"}\",\"{\",\"~\",\":\",\"[\",\"]\",\",\",\";\"]\n",
    "  number = 0\n",
    "  upper = 0\n",
    "  lower = 0\n",
    "  schar = 0\n",
    "\n",
    "  password = input(\"Set a Password:\")\n",
    "  if len(password) >= 10:\n",
    "      for i in password:\n",
    "          if i.isupper():\n",
    "            upper = upper + 1\n",
    "          elif i.islower():\n",
    "            lower = lower + 1\n",
    "          elif i in number_list:\n",
    "            number = number + 1\n",
    "          elif i in schar_list:\n",
    "            schar = schar + 1\n",
    "          else:\n",
    "            pass\n",
    "  else:\n",
    "    print(\"Less than 10 characters!\")\n",
    "\n",
    "  if upper >= 2 and lower >= 2 and number >= 1 and schar >= 3:\n",
    "    print(\"Valid Password\")\n",
    "    break\n",
    "  else:\n",
    "    print(\"Invalid Password! Please Try again!\")"
   ]
  },
  {
   "cell_type": "code",
   "execution_count": 13,
   "id": "c0494336-178b-4da7-8427-aa3860a0b6f5",
   "metadata": {},
   "outputs": [
    {
     "data": {
      "text/plain": [
       "'Matched'"
      ]
     },
     "execution_count": 13,
     "metadata": {},
     "output_type": "execute_result"
    }
   ],
   "source": [
    "\"1.Check if the string starts with a particular letter\"\n",
    "x = \"Akram\"\n",
    "a = lambda x : \"Matched\" if x[0] == \"A\" else \"Not Matched\"\n",
    "a(x)"
   ]
  },
  {
   "cell_type": "code",
   "execution_count": 14,
   "id": "25d31ba9-7a59-40c5-82df-2559771b3941",
   "metadata": {},
   "outputs": [
    {
     "name": "stdin",
     "output_type": "stream",
     "text": [
      "Enter a String: 54321\n"
     ]
    },
    {
     "name": "stdout",
     "output_type": "stream",
     "text": [
      "Numeric\n"
     ]
    }
   ],
   "source": [
    "\"\"\"2.Check if the string is numeric\"\"\"\n",
    "x = input(\"Enter a String:\")\n",
    "a = x.isnumeric()\n",
    "b = lambda x : print(\"Numeric\") if a == True else print(\"Non Numeric\")\n",
    "b(x)"
   ]
  },
  {
   "cell_type": "code",
   "execution_count": 20,
   "id": "b7cd3c2f-1901-4a09-ba84-f0265e31091b",
   "metadata": {},
   "outputs": [
    {
     "name": "stdout",
     "output_type": "stream",
     "text": [
      "[('grapes', 1000), ('mango', 99), ('orange', 80)]\n"
     ]
    }
   ],
   "source": [
    "\"\"\"3.Sort a list of tuples having fruit names and their quantity. [(\"mango\",99),(\"orange\",80), (\"grapes\", 1000)]\"\"\"\n",
    "lst = [(\"mango\",99),(\"orange\",80), (\"grapes\", 1000)]\n",
    "\n",
    "nlist = sorted(lst, key = lambda x : x[0])\n",
    "print(nlist)"
   ]
  },
  {
   "cell_type": "code",
   "execution_count": 21,
   "id": "91005801-ff5e-4766-9a17-ddde6ac23ae9",
   "metadata": {},
   "outputs": [
    {
     "data": {
      "text/plain": [
       "[1, 4, 9, 16, 25, 36, 49, 64, 81, 100]"
      ]
     },
     "execution_count": 21,
     "metadata": {},
     "output_type": "execute_result"
    }
   ],
   "source": [
    "\"\"\"4.Find the squares of numbers from 1 to 10\"\"\"\n",
    "def sq(x):\n",
    "    return x**2\n",
    "list(map(sq, range(1,11)))"
   ]
  },
  {
   "cell_type": "code",
   "execution_count": 22,
   "id": "3a8ec29a-ccfa-4bed-8179-508dc699c435",
   "metadata": {},
   "outputs": [
    {
     "data": {
      "text/plain": [
       "[1.0,\n",
       " 1.2599210498948732,\n",
       " 1.4422495703074083,\n",
       " 1.5874010519681994,\n",
       " 1.7099759466766968,\n",
       " 1.8171205928321397,\n",
       " 1.912931182772389,\n",
       " 2.0,\n",
       " 2.080083823051904,\n",
       " 2.154434690031884]"
      ]
     },
     "execution_count": 22,
     "metadata": {},
     "output_type": "execute_result"
    }
   ],
   "source": [
    "\"\"\"5.Find the cube root of numbers from 1 to 10\"\"\"\n",
    "def croot(x):\n",
    "    return x**(1/3)\n",
    "list(map(croot, range(1,11)))"
   ]
  },
  {
   "cell_type": "code",
   "execution_count": 23,
   "id": "d6037399-afdd-4f35-b17d-931f3943deff",
   "metadata": {},
   "outputs": [
    {
     "name": "stdin",
     "output_type": "stream",
     "text": [
      "Enter a Number: 9\n"
     ]
    },
    {
     "data": {
      "text/plain": [
       "'Odd'"
      ]
     },
     "execution_count": 23,
     "metadata": {},
     "output_type": "execute_result"
    }
   ],
   "source": [
    "\"\"\"6.Check if a given number is even\"\"\"\n",
    "x = int(input(\"Enter a Number:\"))\n",
    "a = lambda x : \"Even\" if x % 2 == 0 else \"Not \"\n",
    "a(x)"
   ]
  },
  {
   "cell_type": "code",
   "execution_count": 22,
   "id": "19facd0a-fffe-4a06-8f12-c1017913c7a3",
   "metadata": {},
   "outputs": [
    {
     "data": {
      "text/plain": [
       "[1, 3, 5, 7, 9]"
      ]
     },
     "execution_count": 22,
     "metadata": {},
     "output_type": "execute_result"
    }
   ],
   "source": [
    "\"\"\"7.Filter odd numbers from the given list.\n",
    "[1,2,3,4,5,6,7,8,9,10]\"\"\"\n",
    "\n",
    "lst =[1,2,3,4,5,6,7,8,9,10]\n",
    "list(filter(lambda x : x if x % 2 != 0 else None, lst))"
   ]
  },
  {
   "cell_type": "code",
   "execution_count": 21,
   "id": "f0bfa5b4-74ef-41cc-8d18-81e28c9a4d92",
   "metadata": {},
   "outputs": [
    {
     "data": {
      "text/plain": [
       "[-1, -2, -3, -4, -5]"
      ]
     },
     "execution_count": 21,
     "metadata": {},
     "output_type": "execute_result"
    }
   ],
   "source": [
    "\"\"\"8.Sort a list of integers into positive and negative integers lists.\n",
    "[1,2,3,4,5,6,-1,-2,-3,-4,-5,0]\"\"\"\n",
    "lst = [1,2,3,4,5,6,-1,-2,-3,-4,-5,0]\n",
    "\n",
    "[i for i in lst if i > 0]\n",
    "[i for i in lst if i < 0]"
   ]
  },
  {
   "cell_type": "code",
   "execution_count": null,
   "id": "8f420dc1-5dbe-4ccf-986d-1c207a5fa0ba",
   "metadata": {},
   "outputs": [],
   "source": []
  }
 ],
 "metadata": {
  "kernelspec": {
   "display_name": "Python 3 (ipykernel)",
   "language": "python",
   "name": "python3"
  },
  "language_info": {
   "codemirror_mode": {
    "name": "ipython",
    "version": 3
   },
   "file_extension": ".py",
   "mimetype": "text/x-python",
   "name": "python",
   "nbconvert_exporter": "python",
   "pygments_lexer": "ipython3",
   "version": "3.10.8"
  }
 },
 "nbformat": 4,
 "nbformat_minor": 5
}
